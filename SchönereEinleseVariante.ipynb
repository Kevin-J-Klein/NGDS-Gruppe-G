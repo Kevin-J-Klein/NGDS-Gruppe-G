{
 "cells": [
  {
   "cell_type": "markdown",
   "metadata": {},
   "source": [
    "# Wetterstation Kloten"
   ]
  },
  {
   "cell_type": "code",
   "execution_count": 1,
   "metadata": {},
   "outputs": [],
   "source": [
    "import numpy as np\n",
    "import matplotlib.pyplot as plt\n",
    "from datetime import datetime\n",
    "from scipy.interpolate import interp1d\n",
    "from scipy import integrate"
   ]
  },
  {
   "cell_type": "markdown",
   "metadata": {},
   "source": [
    "1. Import der Daten\n",
    "   - Beschreibt die Datenstruktur.\n",
    "   - Zeigt auf, wie viele Messungen es sind."
   ]
  },
  {
   "cell_type": "markdown",
   "metadata": {},
   "source": [
    "- #stn: Stationnummer oder ID der Wetterstation\n",
    "- time: Zeitpunkt der Messung im Format JJJJMMDDhhmm\n",
    "- prestah0: Luftdruck auf Stationshöhe (in hPa)\n",
    "- tre200h0: Lufttemperatur in 2m Höhe (in Grad Celsius)\n",
    "- rre150h0: Niederschlagssumme (in mm) der letzten 6 Minuten\n",
    "- su2000h0: Sonnenscheindauer in Minuten der letzten Stunde\n",
    "- time_diff: Zeitdifferenz zur vorigen Messung in Minuten"
   ]
  },
  {
   "cell_type": "code",
   "execution_count": null,
   "metadata": {},
   "outputs": [],
   "source": [
    "\n",
    "# Laden Sie die Daten aus der CSV-Datei\n",
    "weather = np.genfromtxt('Zürich21-22-GruppeG.csv', delimiter=';', skip_header=1,\n",
    "                     dtype=[('station', 'U3'), ('time', 'U19'), ('pressure', float),\n",
    "                            ('temp', float), ('rain', float), ('sunshine', float),\n",
    "                            ('time_diff', float)])\n",
    "\n",
    "# Filtern Sie die Daten für die Kloten-Station\n",
    "klo_weather = weather[weather['station'] == 'KLO']\n",
    "\n",
    "# Extrahieren Sie die relevanten Spalten\n",
    "time = np.array([datetime.strptime(t, '%Y-%m-%d %H:%M:%S') for t in klo_data['time']])\n",
    "pressure = klo_weather['pressure']\n",
    "temp = klo_weather['temp']\n",
    "rain = klo_weather['rain']\n",
    "sunshine = klo_weather['sunshine']\n",
    "time_diff = klo_weather['time_diff']\n",
    "\n",
    "print(\"Anzahl Messungen:\", len(klo_weather))\n"
   ]
  },
  {
   "cell_type": "code",
   "execution_count": 5,
   "metadata": {},
   "outputs": [
    {
     "name": "stdout",
     "output_type": "stream",
     "text": [
      "7473\n",
      "7473\n",
      "Anzahl Messungen: 7473\n",
      "Zeitpunkt der ersten Messung: ['2021-11-01T00:00:00' '2021-11-01T01:00:00' '2021-11-01T02:00:00'\n",
      " '2021-11-01T03:00:00' '2021-11-01T04:00:00' '2021-11-01T05:00:00'\n",
      " '2021-11-01T08:00:00' '2021-11-01T09:00:00' '2021-11-01T10:00:00'\n",
      " '2021-11-01T13:00:00']\n"
     ]
    }
   ],
   "source": [
    "# Laden Sie die Daten aus der CSV-Datei\n",
    "weather = np.genfromtxt('Zürich21-22-GruppeG.csv', delimiter=';', skip_header=1,\n",
    "                     dtype=[('station', 'U3'), ('time', 'datetime64[s]'), ('pressure', float),\n",
    "                            ('temp', float), ('rain', float), ('sunshine', float),\n",
    "                            ('time_diff', float)])\n",
    "\n",
    "# Filtern Sie die Daten für die Kloten-Station\n",
    "klo_weather = weather[weather['station'] == 'KLO']\n",
    "\n",
    "# Extrahieren Sie die relevanten Spalten\n",
    "time = klo_weather['time']\n",
    "pressure = klo_weather['pressure']\n",
    "temp = klo_weather['temp']\n",
    "rain = klo_weather['rain']\n",
    "sunshine = klo_weather['sunshine']\n",
    "time_diff = klo_weather['time_diff']\n",
    "\n",
    "#Daten transponieren\n",
    "klo_weather_t = np.array([pressure, temp, rain, sunshine])\n",
    "klo_weather_t = np.transpose(klo_weather_t)\n",
    "print(len(klo_weather_t))\n",
    "print(len(time_diff))\n",
    "\n",
    "print(\"Anzahl Messungen:\", len(klo_weather))\n",
    "\n",
    "print(\"Zeitpunkt der ersten Messung:\", time[0:10]) # wird nicht benötigt!!!!"
   ]
  },
  {
   "cell_type": "markdown",
   "metadata": {},
   "source": [
    "2. Da einige Datenpunkte fehlen, müsst ihr diese interpolieren.\n",
    "   - Wählt dazu eine geeignete Methode und begründet eure Wahl.\n",
    "   - Führt die Methode durch, um eine interpolierte Version der Daten mit mindestens doppelt so vielen Punkten zu erzeugen."
   ]
  },
  {
   "cell_type": "code",
   "execution_count": 10,
   "metadata": {},
   "outputs": [
    {
     "ename": "ValueError",
     "evalue": "x and y arrays must be equal in length along interpolation axis.",
     "output_type": "error",
     "traceback": [
      "\u001b[0;31m---------------------------------------------------------------------------\u001b[0m",
      "\u001b[0;31mValueError\u001b[0m                                Traceback (most recent call last)",
      "Cell \u001b[0;32mIn[10], line 10\u001b[0m\n\u001b[1;32m      7\u001b[0m t \u001b[38;5;241m=\u001b[39m np\u001b[38;5;241m.\u001b[39mlinspace(\u001b[38;5;241m0\u001b[39m, \u001b[38;5;28mmax\u001b[39m, (\u001b[38;5;241m2\u001b[39m\u001b[38;5;241m*\u001b[39m\u001b[38;5;28mmax\u001b[39m))\n\u001b[1;32m      9\u001b[0m \u001b[38;5;66;03m#Daten mit verschiedenen Methoden interpolieren\u001b[39;00m\n\u001b[0;32m---> 10\u001b[0m f_cubic     \u001b[38;5;241m=\u001b[39m \u001b[43minterp1d\u001b[49m\u001b[43m(\u001b[49m\u001b[43mtime_diff\u001b[49m\u001b[43m,\u001b[49m\u001b[43m \u001b[49m\u001b[43mklo_weather_t\u001b[49m\u001b[43m[\u001b[49m\u001b[43m:\u001b[49m\u001b[43m,\u001b[49m\u001b[43m:\u001b[49m\u001b[43m]\u001b[49m\u001b[43m,\u001b[49m\u001b[43m \u001b[49m\u001b[43mkind\u001b[49m\u001b[38;5;241;43m=\u001b[39;49m\u001b[38;5;124;43m'\u001b[39;49m\u001b[38;5;124;43mcubic\u001b[39;49m\u001b[38;5;124;43m'\u001b[39;49m\u001b[43m)\u001b[49m\n\u001b[1;32m     11\u001b[0m f_linear    \u001b[38;5;241m=\u001b[39m interp1d(time_diff, klo_weather_t, kind \u001b[38;5;241m=\u001b[39m \u001b[38;5;124m'\u001b[39m\u001b[38;5;124mlinear\u001b[39m\u001b[38;5;124m'\u001b[39m)\n\u001b[1;32m     13\u001b[0m \u001b[38;5;66;03m# Brauchen wir diese???? bis jetzt nicht verwendet !!\u001b[39;00m\n",
      "File \u001b[0;32m~/Documents/Dokumente - Kevins MacBook Pro/ZHAW/NGDS-NZP/venv/lib/python3.10/site-packages/scipy/interpolate/_interpolate.py:491\u001b[0m, in \u001b[0;36minterp1d.__init__\u001b[0;34m(self, x, y, kind, axis, copy, bounds_error, fill_value, assume_sorted)\u001b[0m\n\u001b[1;32m    487\u001b[0m \u001b[39mdef\u001b[39;00m \u001b[39m__init__\u001b[39m(\u001b[39mself\u001b[39m, x, y, kind\u001b[39m=\u001b[39m\u001b[39m'\u001b[39m\u001b[39mlinear\u001b[39m\u001b[39m'\u001b[39m, axis\u001b[39m=\u001b[39m\u001b[39m-\u001b[39m\u001b[39m1\u001b[39m,\n\u001b[1;32m    488\u001b[0m              copy\u001b[39m=\u001b[39m\u001b[39mTrue\u001b[39;00m, bounds_error\u001b[39m=\u001b[39m\u001b[39mNone\u001b[39;00m, fill_value\u001b[39m=\u001b[39mnp\u001b[39m.\u001b[39mnan,\n\u001b[1;32m    489\u001b[0m              assume_sorted\u001b[39m=\u001b[39m\u001b[39mFalse\u001b[39;00m):\n\u001b[1;32m    490\u001b[0m \u001b[39m    \u001b[39m\u001b[39m\"\"\" Initialize a 1-D linear interpolation class.\"\"\"\u001b[39;00m\n\u001b[0;32m--> 491\u001b[0m     _Interpolator1D\u001b[39m.\u001b[39;49m\u001b[39m__init__\u001b[39;49m(\u001b[39mself\u001b[39;49m, x, y, axis\u001b[39m=\u001b[39;49maxis)\n\u001b[1;32m    493\u001b[0m     \u001b[39mself\u001b[39m\u001b[39m.\u001b[39mbounds_error \u001b[39m=\u001b[39m bounds_error  \u001b[39m# used by fill_value setter\u001b[39;00m\n\u001b[1;32m    494\u001b[0m     \u001b[39mself\u001b[39m\u001b[39m.\u001b[39mcopy \u001b[39m=\u001b[39m copy\n",
      "File \u001b[0;32m~/Documents/Dokumente - Kevins MacBook Pro/ZHAW/NGDS-NZP/venv/lib/python3.10/site-packages/scipy/interpolate/_polyint.py:56\u001b[0m, in \u001b[0;36m_Interpolator1D.__init__\u001b[0;34m(self, xi, yi, axis)\u001b[0m\n\u001b[1;32m     54\u001b[0m \u001b[39mself\u001b[39m\u001b[39m.\u001b[39mdtype \u001b[39m=\u001b[39m \u001b[39mNone\u001b[39;00m\n\u001b[1;32m     55\u001b[0m \u001b[39mif\u001b[39;00m yi \u001b[39mis\u001b[39;00m \u001b[39mnot\u001b[39;00m \u001b[39mNone\u001b[39;00m:\n\u001b[0;32m---> 56\u001b[0m     \u001b[39mself\u001b[39;49m\u001b[39m.\u001b[39;49m_set_yi(yi, xi\u001b[39m=\u001b[39;49mxi, axis\u001b[39m=\u001b[39;49maxis)\n",
      "File \u001b[0;32m~/Documents/Dokumente - Kevins MacBook Pro/ZHAW/NGDS-NZP/venv/lib/python3.10/site-packages/scipy/interpolate/_polyint.py:126\u001b[0m, in \u001b[0;36m_Interpolator1D._set_yi\u001b[0;34m(self, yi, xi, axis)\u001b[0m\n\u001b[1;32m    124\u001b[0m     shape \u001b[39m=\u001b[39m (\u001b[39m1\u001b[39m,)\n\u001b[1;32m    125\u001b[0m \u001b[39mif\u001b[39;00m xi \u001b[39mis\u001b[39;00m \u001b[39mnot\u001b[39;00m \u001b[39mNone\u001b[39;00m \u001b[39mand\u001b[39;00m shape[axis] \u001b[39m!=\u001b[39m \u001b[39mlen\u001b[39m(xi):\n\u001b[0;32m--> 126\u001b[0m     \u001b[39mraise\u001b[39;00m \u001b[39mValueError\u001b[39;00m(\u001b[39m\"\u001b[39m\u001b[39mx and y arrays must be equal in length along \u001b[39m\u001b[39m\"\u001b[39m\n\u001b[1;32m    127\u001b[0m                      \u001b[39m\"\u001b[39m\u001b[39minterpolation axis.\u001b[39m\u001b[39m\"\u001b[39m)\n\u001b[1;32m    129\u001b[0m \u001b[39mself\u001b[39m\u001b[39m.\u001b[39m_y_axis \u001b[39m=\u001b[39m (axis \u001b[39m%\u001b[39m yi\u001b[39m.\u001b[39mndim)\n\u001b[1;32m    130\u001b[0m \u001b[39mself\u001b[39m\u001b[39m.\u001b[39m_y_extra_shape \u001b[39m=\u001b[39m yi\u001b[39m.\u001b[39mshape[:\u001b[39mself\u001b[39m\u001b[39m.\u001b[39m_y_axis]\u001b[39m+\u001b[39myi\u001b[39m.\u001b[39mshape[\u001b[39mself\u001b[39m\u001b[39m.\u001b[39m_y_axis\u001b[39m+\u001b[39m\u001b[39m1\u001b[39m:]\n",
      "\u001b[0;31mValueError\u001b[0m: x and y arrays must be equal in length along interpolation axis."
     ]
    }
   ],
   "source": [
    "#daten für demo\n",
    "time_diff_demo = time_diff[:25]\n",
    "max_demo = int(np.max(time_diff_demo))\n",
    "#t_demo = np.linspace(0, max_demo, (2*max_demo))\n",
    "\n",
    "max = int(np.max(time_diff))\n",
    "t = np.linspace(0, max, (2*max))\n",
    "\n",
    "#Daten mit verschiedenen Methoden interpolieren\n",
    "f_cubic     = interp1d(time_diff, klo_weather_t[:,:], kind='cubic')\n",
    "f_linear    = interp1d(time_diff, klo_weather_t, kind = 'linear')\n",
    "\n",
    "# Brauchen wir diese???? bis jetzt nicht verwendet !!\n",
    "f_linear_temp = interp1d(time_diff, klo_weather_t[3:4], kind = 'linear') \n",
    "f_quadratic = interp1d(time_diff, klo_weather_t[2:3], kind='quadratic')\n",
    "f_nearest   = interp1d(time_diff, klo_weather_t[2:3], kind='nearest')\n",
    "\n",
    "pressure_inter_cubic, temp_inter_cubic, rain_inter_cubic, sunshine_inter_cubic       = f_cubic(t)\n",
    "pressure_inter_linear, temp_inter_linear, rain_inter_linear, sunshine_inter_linear   = f_linear(t)"
   ]
  },
  {
   "cell_type": "code",
   "execution_count": null,
   "metadata": {},
   "outputs": [],
   "source": [
    "fig, (ax1, ax2, ax3, ax4) = plt.subplots(4, 1, sharex=True, figsize=(20,10))\n",
    "fig.subplots_adjust(wspace=0.5, hspace=0.3)\n",
    "\n",
    "ax1.plot(time_diff_demo, pressure[:25], 'o', label='Daten')\n",
    "ax1.plot(t[0:2*max_demo], pressure_inter_cubic[0:2*max_demo], 'r-', label='kubisch interpoliert')\n",
    "ax1.plot(t[0:2*max_demo], pressure_inter_linear[0:2*max_demo], 'g-', label='linear interpoliert')\n",
    "ax1.set_ylabel('Luftdruck [hPa]')\n",
    "ax1.legend()\n",
    "\n",
    "ax2.plot(time_diff_demo, temp[:25], 'o', label='Daten')\n",
    "ax2.plot(t[0:2*max_demo], temp_inter_cubic[0:2*max_demo], 'r-', label='kubisch interpoliert')\n",
    "ax2.plot(t[0:2*max_demo], temp_inter_linear[0:2*max_demo], 'g-', label='linear interpoliert')\n",
    "ax2.set_ylabel('Temperatur [°C]')\n",
    "#ax2.set_xlabel('Zeit')\n",
    "ax2.legend()\n",
    "\n",
    "ax3.plot(time_diff_demo, rain[:25], 'o', label='Daten')\n",
    "ax3.plot(t[0:2*max_demo], rain_inter_cubic[0:2*max_demo], 'r-', label='kubisch interpoliert')\n",
    "ax3.plot(t[0:2*max_demo], rain_inter_linear[0:2*max_demo], 'g-', label='linear interpoliert')\n",
    "ax3.set_ylabel('Niederschlagsmenge [mm]') #Einheit: mm ?\n",
    "#ax3.set_xlabel('Zeit')\n",
    "ax3.legend()\n",
    "\n",
    "ax4.plot(time_diff_demo, sunshine[:25], 'o', label='Daten')\n",
    "ax4.plot(t[0:2*max_demo], sunshine_inter_cubic[0:2*max_demo], 'r-', label='kubisch interpoliert')\n",
    "ax4.plot(t[0:2*max_demo], sunshine_inter_linear[0:2*max_demo], 'g-', label='linear interpoliert')\n",
    "ax4.set_ylabel('Sonnenstunden [%]')\n",
    "#ax4.set_xlabel('Zeit')\n",
    "ax4.legend()\n",
    "\n",
    "plt.xlabel('Zeit')\n",
    "plt.suptitle('Interpolierte Wetterdaten (Kloten)')\n",
    "plt.show()"
   ]
  },
  {
   "cell_type": "markdown",
   "metadata": {},
   "source": [
    "Entscheidung: \n",
    " Luftdruck und Temperatur -> kubisch -> Wieso????\n",
    " Niederschlagsmenge und Sonnenstunden -> linear -> bei kubisch entstehen nicht reale Daten -> negative Niederschlagsmenden und Sonnenstunden isnd nicht möglich"
   ]
  },
  {
   "cell_type": "markdown",
   "metadata": {},
   "source": [
    "3. Ihr sollt alle Variablen (Luftdruck, Temperatur, Regenmenge und Sonnenstunden) über einen selbstgewählten Zeitraum darstellen. \n",
    "   - Basisvariante: Wähle einen interessanten Zeitraum von 1-2 Wochen.\n",
    "   - Schwierigere Variante (mehr Punkte): Errechne tageweise Durchschnitte, um die Variablen in einem grösseren Zeitraum (mehrere Monate/Quartal) darzustellen."
   ]
  },
  {
   "cell_type": "code",
   "execution_count": null,
   "metadata": {},
   "outputs": [],
   "source": [
    "#Variablen instanzieren\n",
    "daily_pressure = np.array([]).astype(float)\n",
    "daily_average_pressure = 0\n",
    "\n",
    "daily_temp = np.array([]).astype(float)\n",
    "daily_average_temp = 0\n",
    "\n",
    "daily_rain = np.array([]).astype(float)\n",
    "daily_average_rain = 0\n",
    "\n",
    "daily_sun = np.array([]).astype(float)\n",
    "daily_average_sun = 0\n",
    "\n",
    "\n",
    "for i in range(len(t)):\n",
    "    daily_average_pressure += pressure_inter_cubic[i]\n",
    "    daily_average_temp += temp_inter_cubic[i]\n",
    "    daily_average_rain += rain_inter_linear[i]\n",
    "    daily_average_sun += sunshine_inter_linear[i]\n",
    "    if (i+1) % 48 == 0:\n",
    "        daily_pressure = np.append(daily_pressure, daily_average_pressure/48)\n",
    "        daily_average_pressure = 0\n",
    "        daily_temp = np.append(daily_temp, daily_average_temp/48)\n",
    "        daily_average_temp = 0\n",
    "        daily_rain = np.append(daily_rain, daily_average_rain/48)\n",
    "        daily_average_rain = 0\n",
    "        daily_sunshine = np.append(daily_sunshine, daily_average_sun/48)\n",
    "        daily_average_sun = 0\n",
    "\n",
    "#für den letzten Tag wird der Durchschnitt nicht gerechnet, da die letzte stunde fehlt..\n",
    "#soll die letzte stunde auch noch interpoliert werden oder soll der letzte tag trotzdem gerechnet werden????????????\n",
    "#if daily_average != 0:\n",
    "    \n",
    "print(len(daily_pressure))\n",
    "print(np.mean(daily_pressure))\n",
    "print(np.mean(pressure_inter_cubic))\n",
    "print(np.max(daily_pressure))\n",
    "\n",
    "print(len(daily_temp))\n",
    "print(np.mean(daily_temp))\n",
    "print(np.mean(temp_inter_cubic))\n",
    "print(np.max(daily_temp))\n",
    "\n",
    "print(len(daily_rain))\n",
    "print(np.mean(daily_rain))\n",
    "print(np.mean(rain_inter_linear))\n",
    "print(np.max(daily_rain))\n",
    "\n",
    "print(len(daily_sunshine))\n",
    "print(np.mean(daily_sunshine))\n",
    "print(np.mean(sunshine_inter_linear))\n",
    "print(np.max(daily_sunshine))\n"
   ]
  },
  {
   "cell_type": "code",
   "execution_count": null,
   "metadata": {},
   "outputs": [],
   "source": [
    "days = np.arange(1, len(daily_pressure)+1, 1)\n",
    "\n",
    "fig, (ax1, ax2, ax3, ax4) = plt.subplots(4, 1, sharex=True, figsize=(20,10))\n",
    "fig.subplots_adjust(wspace=0.5, hspace=0.3)\n",
    "\n",
    "ax1.plot(days, daily_pressure, 'o')\n",
    "ax1.set_ylabel('Luftdruck [hPa]')\n",
    "\n",
    "ax2.plot(days, daily_temp, 'o')\n",
    "ax2.set_ylabel('Temperatur [°C]')\n",
    "\n",
    "ax3.plot(days, daily_rain, 'o', label='Daten')\n",
    "ax3.set_ylabel('Niederschlagsmenge [mm]')\n",
    "\n",
    "ax4.plot(days, daily_sunshine, 'o', label='Daten')\n",
    "ax4.set_ylabel('Sonnenstunden [%]')\n",
    "\n",
    "plt.xlabel('Zeit')\n",
    "plt.suptitle('Interpolierte Wetterdaten (Kloten)')\n",
    "plt.show()"
   ]
  },
  {
   "cell_type": "markdown",
   "metadata": {},
   "source": [
    "4. Für die folgenden Punkte sollt ihr eine der Variablen auswählen.\n",
    "   - Entweder Luftdruck, Temperatur, Regenmenge oder Sonnenstunden"
   ]
  },
  {
   "cell_type": "markdown",
   "metadata": {},
   "source": [
    "Luftdruck it is!"
   ]
  },
  {
   "cell_type": "markdown",
   "metadata": {},
   "source": [
    "5. Vergleicht die ursprünglichen Daten mit den interpolierten Daten und zeigt eure Erkenntnisse auf. \n",
    "   - Hier könnt ihr euch z.B. fragen, wie sich unterschiedliche Interpolationsmethoden verhalten."
   ]
  },
  {
   "cell_type": "code",
   "execution_count": null,
   "metadata": {},
   "outputs": [],
   "source": []
  },
  {
   "cell_type": "markdown",
   "metadata": {},
   "source": [
    "6. Berechnet Nullstellen bzw. Schnittpunkte mit einem Schwellenwert und überlegt euch, welche Aussagen ihr daraus ableiten könnt.\n",
    "   - Ihr könntet z.B. sagen: \"In Davos hatten wir im Winter X-mal weniger als Null Grad.\" oder \"An welchen Tagen wurde die Regenmenge XY erreicht?\"."
   ]
  },
  {
   "cell_type": "code",
   "execution_count": null,
   "metadata": {},
   "outputs": [],
   "source": [
    "from scipy import optimize\n",
    "print(f_linear_temp(0))\n",
    "zero = optimize.newton(f_linear_temp, 1000)\n",
    "print(zero)\n",
    "print(tre200h0_inter_linear[1900:2000])\n"
   ]
  },
  {
   "cell_type": "markdown",
   "metadata": {},
   "source": [
    "7. Mithilfe der Ableitung soll nach grossen Änderungen in den Daten gesucht werden. \n",
    "   - So könnt ihr z.B. sagen: \"Am Tag X hatten wir die grösste Änderungsrate des Luftdrucks\"."
   ]
  },
  {
   "cell_type": "code",
   "execution_count": null,
   "metadata": {},
   "outputs": [],
   "source": [
    "def deriv(f, x, h=1e-5):\n",
    "    return (f(x + h) - f(x - h)) / (2 * h)\n",
    "\n",
    "def deriv_data(x, y):\n",
    "    dy = np.diff(y)\n",
    "    dx = np.diff(x)\n",
    "    dydx = dy / dx\n",
    "    yprime = np.empty_like(y)\n",
    "    yprime[1:-1] = (dydx[:-1] + dydx[1:]) / 2\n",
    "    yprime[0] = dydx[0]\n",
    "    yprime[-1] = dydx[-1]\n",
    "    return yprime"
   ]
  },
  {
   "cell_type": "code",
   "execution_count": null,
   "metadata": {},
   "outputs": [],
   "source": [
    "#Finde die Zeitpunkte mit der größten Zunahme bzw. Abnhame des Luftdrucks anhand der Ableitung der Interpolationsfunktion.\n"
   ]
  },
  {
   "cell_type": "code",
   "execution_count": null,
   "metadata": {},
   "outputs": [],
   "source": [
    "#timd_diff_rounded = np.round(time_diff, decimals=1)\n",
    "#t_rounded = np.round(t, decimals=0)\n",
    "\n",
    "f_cubic     = interp1d(time_diff, prestah0, kind='cubic')\n",
    "pressure_prime_inter = deriv(f_cubic, t)\n",
    "\n",
    "#Finde die Zeitpunkte mit der größten Zunahme bzw. Abnhame des Luftdrucks anhand der Ableitung der Interpolationsfunktion.\n",
    "i_min = np.argmin(pressure_prime_inter)\n",
    "i_max = np.argmax(pressure_prime_inter)\n",
    "print(\"maximale Abnahme:\", (t[i_min], pressure_prime_inter[i_min]))\n",
    "print(\"maximale Zunahme:\", (t[i_max], pressure_prime_inter[i_max]))"
   ]
  },
  {
   "cell_type": "code",
   "execution_count": null,
   "metadata": {},
   "outputs": [],
   "source": [
    "pressure_prime_inter = deriv_data(prestah0_inter_cubic, t)\n",
    "\n",
    "#Finde die Zeitpunkte mit der größten Zunahme bzw. Abnhame des Luftdrucks anhand der Ableitung der Interpolationsfunktion.\n",
    "i_min = np.argmin(pressure_prime_inter) #Returns the indices of the minimum values along an axis.\n",
    "i_max = np.argmax(pressure_prime_inter) #Returns the indices of the maximum values along an axis.\n",
    "print(\"maximale Abnahme:\", (t[i_min], pressure_prime_inter[i_min]))\n",
    "print(\"maximale Zunahme:\", (t[i_max], pressure_prime_inter[i_max])) #"
   ]
  },
  {
   "cell_type": "code",
   "execution_count": null,
   "metadata": {},
   "outputs": [],
   "source": [
    "print(\"i_min:\", i_min)\n",
    "print(\"i_max:\", i_max)\n",
    "\n",
    "print(prestah0_inter_cubic[i_min-1:i_min+1])\n",
    "print(prestah0_inter_cubic[14552:14555])"
   ]
  },
  {
   "cell_type": "code",
   "execution_count": null,
   "metadata": {},
   "outputs": [],
   "source": [
    "df = np.gradient(prestah0_inter_cubic)\n",
    "\n",
    "i_min = np.argmin(df) #Returns the indices of the minimum values along an axis.\n",
    "i_max = np.argmax(df) #Returns the indices of the maximum values along an axis.\n",
    "print(\"maximale Abnahme:\", (t[i_min], df[i_min]))\n",
    "print(\"maximale Zunahme:\", (t[i_max], df[i_max])) #"
   ]
  },
  {
   "cell_type": "markdown",
   "metadata": {},
   "source": [
    "8. Benutze die Integration, um gewisse Durchschnittswerte über einen definierten Zeitraum zu berechnen.\n",
    "   - So könnt ihr z.B. die durchschnittlichen Sonnenstunden über den Sommer aufzeigen."
   ]
  },
  {
   "cell_type": "code",
   "execution_count": null,
   "metadata": {},
   "outputs": [],
   "source": [
    "print(integrate.quad(f_cubic, 0, 10))\n",
    "print(integrate.trapezoid(prestah0_inter_cubic[:21], t[:21]))"
   ]
  },
  {
   "cell_type": "code",
   "execution_count": null,
   "metadata": {},
   "outputs": [],
   "source": [
    "def mean_func(func, a, b):\n",
    "    integral, error = integrate.quad(func, a, b)\n",
    "    return integral / (b - a)"
   ]
  },
  {
   "cell_type": "code",
   "execution_count": null,
   "metadata": {},
   "outputs": [],
   "source": [
    "durschnittsdruck = mean_func(f_cubic, 0, 10)\n",
    "print(durschnittsdruck)"
   ]
  },
  {
   "cell_type": "code",
   "execution_count": null,
   "metadata": {},
   "outputs": [],
   "source": [
    "ausgewählter_zeitraum_x = t[:21]\n",
    "ausgewählter_zeitraum_y = prestah0_inter_cubic[:21]\n",
    "\n",
    "print(ausgewählter_zeitraum_x)\n",
    "ausgewählter_zeitraum_y"
   ]
  },
  {
   "cell_type": "code",
   "execution_count": null,
   "metadata": {},
   "outputs": [],
   "source": [
    "\n",
    "\n",
    "plt.plot(ausgewählter_zeitraum_x, ausgewählter_zeitraum_y)\n",
    "plt.fill_between(ausgewählter_zeitraum_x, ausgewählter_zeitraum_y, alpha=0.3)\n",
    "plt.plot([durschnittsdruck, durschnittsdruck], \"r\")\n",
    "plt.xlabel(\"Messzeitpunkt [h]\")\n",
    "plt.ylabel(\"bar\")\n",
    "plt.title(\"Interpolierte Airpressure mit Nullstellen und Mittelwert\")\n",
    "#plt.xlim(t_inter.min(), t_inter.max())\n",
    "plt.grid()\n",
    "plt.show()"
   ]
  }
 ],
 "metadata": {
  "kernelspec": {
   "display_name": "Python 3.10.7 ('venv': venv)",
   "language": "python",
   "name": "python3"
  },
  "language_info": {
   "codemirror_mode": {
    "name": "ipython",
    "version": 3
   },
   "file_extension": ".py",
   "mimetype": "text/x-python",
   "name": "python",
   "nbconvert_exporter": "python",
   "pygments_lexer": "ipython3",
   "version": "3.10.7"
  },
  "orig_nbformat": 4,
  "vscode": {
   "interpreter": {
    "hash": "eed91b8ce257bfa844ef03a0b1d03cde417208dafc0bec756473c8a593543cd2"
   }
  }
 },
 "nbformat": 4,
 "nbformat_minor": 2
}
