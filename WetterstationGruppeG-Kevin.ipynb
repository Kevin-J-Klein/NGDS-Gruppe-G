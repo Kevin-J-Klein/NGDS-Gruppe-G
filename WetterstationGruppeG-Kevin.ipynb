{
 "cells": [
  {
   "cell_type": "markdown",
   "metadata": {},
   "source": [
    "# Wetterstation Kloten"
   ]
  },
  {
   "cell_type": "code",
   "execution_count": null,
   "metadata": {},
   "outputs": [],
   "source": [
    "import numpy as np\n",
    "import matplotlib.pyplot as plt\n",
    "from datetime import datetime\n",
    "from scipy.interpolate import interp1d\n",
    "from scipy import integrate\n",
    "from scipy import optimize"
   ]
  },
  {
   "cell_type": "markdown",
   "metadata": {},
   "source": [
    "1. Import der Daten\n",
    "   - Beschreibt die Datenstruktur.\n",
    "   - Zeigt auf, wie viele Messungen es sind."
   ]
  },
  {
   "cell_type": "code",
   "execution_count": null,
   "metadata": {},
   "outputs": [],
   "source": [
    "#load csv file\n",
    "weather = np.loadtxt('Zürich21-22-GruppeG.csv', skiprows=1, delimiter=';', dtype=str)\n",
    "\n",
    "#select data for Kloten\n",
    "klo_weather = [row for row in weather if row[0] == 'KLO'] #klo_weather is a list of lists or Numpy array???"
   ]
  },
  {
   "cell_type": "code",
   "execution_count": null,
   "metadata": {},
   "outputs": [],
   "source": [
    "#Daten transponieren\n",
    "klo_weather_t = np.transpose(klo_weather)\n",
    "\n",
    "time = [datetime.strptime(t, '%Y-%m-%d %H:%M:%S') for t in klo_weather_t[1]]\n",
    "pressure = klo_weather_t[2].astype(float)\n",
    "temp = klo_weather_t[3].astype(float)\n",
    "rain = klo_weather_t[4].astype(float)\n",
    "sunshine = klo_weather_t[5].astype(float)\n",
    "time_diff = klo_weather_t[6].astype(float)"
   ]
  },
  {
   "cell_type": "code",
   "execution_count": null,
   "metadata": {},
   "outputs": [],
   "source": [
    "print(\"Anzahl Messungen:\", len(klo_weather))"
   ]
  },
  {
   "cell_type": "markdown",
   "metadata": {},
   "source": [
    "- #stn: Stationnummer oder ID der Wetterstation\n",
    "- time: Zeitpunkt der Messung im Format JJJJMMDDhhmm\n",
    "- prestah0: Luftdruck auf Stationshöhe (in hPa)\n",
    "- tre200h0: Lufttemperatur in 2m Höhe (in Grad Celsius)\n",
    "- rre150h0: Niederschlagssumme (in mm) der letzten 6 Minuten\n",
    "- su2000h0: Sonnenscheindauer in Minuten der letzten Stunde\n",
    "- time_diff: Zeitdifferenz zur vorigen Messung in Minuten"
   ]
  },
  {
   "cell_type": "markdown",
   "metadata": {},
   "source": [
    "2. Da einige Datenpunkte fehlen, müsst ihr diese interpolieren.\n",
    "   - Wählt dazu eine geeignete Methode und begründet eure Wahl.\n",
    "   - Führt die Methode durch, um eine interpolierte Version der Daten mit mindestens doppelt so vielen Punkten zu erzeugen."
   ]
  },
  {
   "cell_type": "code",
   "execution_count": null,
   "metadata": {},
   "outputs": [],
   "source": [
    "#daten für demo\n",
    "time_diff_demo = time_diff[:25]\n",
    "max_demo = int(np.max(time_diff_demo))\n",
    "#t_demo = np.linspace(0, max_demo, (2*max_demo))\n",
    "\n",
    "max = int(np.max(time_diff))\n",
    "t = np.linspace(0, max, (2*max))\n",
    "\n",
    "#Daten mit verschiedenen Methoden interpolieren\n",
    "f_cubic     = interp1d(time_diff, klo_weather_t[2:6], kind='cubic')\n",
    "f_linear    = interp1d(time_diff, klo_weather_t[2:6], kind = 'linear')\n",
    "\n",
    "# Brauchen wir diese???? bis jetzt nicht verwendet !!\n",
    "f_linear_temp = interp1d(time_diff, klo_weather_t[3:4], kind = 'linear') \n",
    "f_quadratic = interp1d(time_diff, klo_weather_t[2:3], kind='quadratic')\n",
    "f_nearest   = interp1d(time_diff, klo_weather_t[2:3], kind='nearest')\n",
    "\n",
    "pressure_inter_cubic, temp_inter_cubic, rain_inter_cubic, sunshine_inter_cubic       = f_cubic(t)\n",
    "pressure_inter_linear, temp_inter_linear, rain_inter_linear, sunshine_inter_linear   = f_linear(t)"
   ]
  },
  {
   "cell_type": "code",
   "execution_count": null,
   "metadata": {},
   "outputs": [],
   "source": [
    "fig, (ax1, ax2, ax3, ax4) = plt.subplots(4, 1, sharex=True, figsize=(20,10))\n",
    "fig.subplots_adjust(wspace=0.5, hspace=0.3)\n",
    "\n",
    "ax1.plot(time_diff_demo, pressure[:25], 'o', label='Daten')\n",
    "ax1.plot(t[0:2*max_demo], pressure_inter_cubic[0:2*max_demo], 'r-', label='kubisch interpoliert')\n",
    "ax1.plot(t[0:2*max_demo], pressure_inter_linear[0:2*max_demo], 'g-', label='linear interpoliert')\n",
    "ax1.set_ylabel('Luftdruck [hPa]')\n",
    "ax1.legend()\n",
    "\n",
    "ax2.plot(time_diff_demo, temp[:25], 'o', label='Daten')\n",
    "ax2.plot(t[0:2*max_demo], temp_inter_cubic[0:2*max_demo], 'r-', label='kubisch interpoliert')\n",
    "ax2.plot(t[0:2*max_demo], temp_inter_linear[0:2*max_demo], 'g-', label='linear interpoliert')\n",
    "ax2.set_ylabel('Temperatur [°C]')\n",
    "#ax2.set_xlabel('Zeit')\n",
    "ax2.legend()\n",
    "\n",
    "ax3.plot(time_diff_demo, rain[:25], 'o', label='Daten')\n",
    "ax3.plot(t[0:2*max_demo], rain_inter_cubic[0:2*max_demo], 'r-', label='kubisch interpoliert')\n",
    "ax3.plot(t[0:2*max_demo], rain_inter_linear[0:2*max_demo], 'g-', label='linear interpoliert')\n",
    "ax3.set_ylabel('Niederschlagsmenge [mm]') #Einheit: mm ?\n",
    "#ax3.set_xlabel('Zeit')\n",
    "ax3.legend()\n",
    "\n",
    "ax4.plot(time_diff_demo, sunshine[:25], 'o', label='Daten')\n",
    "ax4.plot(t[0:2*max_demo], sunshine_inter_cubic[0:2*max_demo], 'r-', label='kubisch interpoliert')\n",
    "ax4.plot(t[0:2*max_demo], sunshine_inter_linear[0:2*max_demo], 'g-', label='linear interpoliert')\n",
    "ax4.set_ylabel('Sonnenstunden [%]')\n",
    "#ax4.set_xlabel('Zeit')\n",
    "ax4.legend()\n",
    "\n",
    "plt.xlabel('Zeit')\n",
    "plt.suptitle('Interpolierte Wetterdaten (Kloten)')\n",
    "plt.show()"
   ]
  },
  {
   "cell_type": "markdown",
   "metadata": {},
   "source": [
    "Entscheidung: \n",
    " Luftdruck und Temperatur -> kubisch -> Wieso????\n",
    " Niederschlagsmenge und Sonnenstunden -> linear -> bei kubisch entstehen nicht reale Daten -> negative Niederschlagsmenden und Sonnenstunden isnd nicht möglich"
   ]
  },
  {
   "cell_type": "markdown",
   "metadata": {},
   "source": [
    "3. Ihr sollt alle Variablen (Luftdruck, Temperatur, Regenmenge und Sonnenstunden) über einen selbstgewählten Zeitraum darstellen. \n",
    "   - Basisvariante: Wähle einen interessanten Zeitraum von 1-2 Wochen.\n",
    "   - Schwierigere Variante (mehr Punkte): Errechne tageweise Durchschnitte, um die Variablen in einem grösseren Zeitraum (mehrere Monate/Quartal) darzustellen."
   ]
  },
  {
   "cell_type": "code",
   "execution_count": null,
   "metadata": {},
   "outputs": [],
   "source": [
    "#Variablen instanzieren\n",
    "daily_pressure = np.array([]).astype(float)\n",
    "daily_average_pressure = 0\n",
    "\n",
    "daily_temp = np.array([]).astype(float)\n",
    "daily_average_temp = 0\n",
    "\n",
    "daily_rain = np.array([]).astype(float)\n",
    "daily_average_rain = 0\n",
    "\n",
    "daily_sunshine = np.array([]).astype(float)\n",
    "daily_average_sun = 0\n",
    "\n",
    "\n",
    "for i in range(len(t)):\n",
    "    daily_average_pressure += pressure_inter_cubic[i]\n",
    "    daily_average_temp += temp_inter_cubic[i]\n",
    "    daily_average_rain += rain_inter_linear[i]\n",
    "    daily_average_sun += sunshine_inter_linear[i]\n",
    "    if (i+1) % 48 == 0:\n",
    "        daily_pressure = np.append(daily_pressure, daily_average_pressure/48)\n",
    "        daily_average_pressure = 0\n",
    "        daily_temp = np.append(daily_temp, daily_average_temp/48)\n",
    "        daily_average_temp = 0\n",
    "        daily_rain = np.append(daily_rain, daily_average_rain/48)\n",
    "        daily_average_rain = 0\n",
    "        daily_sunshine = np.append(daily_sunshine, daily_average_sun/48)\n",
    "        daily_average_sun = 0\n",
    "\n",
    "#für den letzten Tag wird der Durchschnitt nicht gerechnet, da die letzte stunde fehlt..\n",
    "#soll die letzte stunde auch noch interpoliert werden oder soll der letzte tag trotzdem gerechnet werden????????????\n",
    "#if daily_average != 0:\n",
    "    \n",
    "print(len(daily_pressure))\n",
    "print(np.mean(daily_pressure))\n",
    "print(np.mean(pressure_inter_cubic))\n",
    "print(np.max(daily_pressure))\n",
    "\n",
    "print(len(daily_temp))\n",
    "print(np.mean(daily_temp))\n",
    "print(np.mean(temp_inter_cubic))\n",
    "print(np.max(daily_temp))\n",
    "\n",
    "print(len(daily_rain))\n",
    "print(np.mean(daily_rain))\n",
    "print(np.mean(rain_inter_linear))\n",
    "print(np.max(daily_rain))\n",
    "\n",
    "print(len(daily_sunshine))\n",
    "print(np.mean(daily_sunshine))\n",
    "print(np.mean(sunshine_inter_linear))\n",
    "print(np.max(daily_sunshine))\n"
   ]
  },
  {
   "cell_type": "code",
   "execution_count": null,
   "metadata": {},
   "outputs": [],
   "source": [
    "days = np.arange(1, len(daily_pressure)+1, 1)\n",
    "\n",
    "fig, (ax1, ax2, ax3, ax4) = plt.subplots(4, 1, sharex=True, figsize=(20,10))\n",
    "fig.subplots_adjust(wspace=0.5, hspace=0.3)\n",
    "\n",
    "ax1.bar(days, daily_pressure, color='black')\n",
    "ax1.set_ylim(930,990)\n",
    "ax1.set_ylabel('Luftdruck [hPa]')\n",
    "\n",
    "\n",
    "ax2.plot(days, daily_temp, color='red')\n",
    "ax2.set_ylabel('Temperatur [°C]')\n",
    "\n",
    "ax3.bar(days, daily_rain)\n",
    "ax3.set_ylabel('Niederschlagsmenge [mm]')\n",
    "\n",
    "ax4.plot(days, daily_sunshine, color='yellow')\n",
    "ax4.fill_between(days, daily_sunshine, 0, alpha=0.2, color='yellow')\n",
    "#ax4.set_ylim(0,1)\n",
    "ax4.set_ylabel('Sonnenstunden [%]')\n",
    "\n",
    "plt.xlabel('Datum') #Datum fehlt noch!!!!! sind noch Tage :(\n",
    "plt.xlim(0, 365)\n",
    "plt.suptitle('Tägliche Wetterdaten (Kloten)')\n",
    "plt.show()"
   ]
  },
  {
   "cell_type": "markdown",
   "metadata": {},
   "source": [
    "4. Für die folgenden Punkte sollt ihr eine der Variablen auswählen.\n",
    "   - Entweder Luftdruck, Temperatur, Regenmenge oder Sonnenstunden"
   ]
  },
  {
   "cell_type": "markdown",
   "metadata": {},
   "source": [
    "Luftdruck it is!"
   ]
  },
  {
   "cell_type": "markdown",
   "metadata": {},
   "source": [
    "5. Vergleicht die ursprünglichen Daten mit den interpolierten Daten und zeigt eure Erkenntnisse auf. \n",
    "   - Hier könnt ihr euch z.B. fragen, wie sich unterschiedliche Interpolationsmethoden verhalten."
   ]
  },
  {
   "cell_type": "code",
   "execution_count": null,
   "metadata": {},
   "outputs": [],
   "source": []
  },
  {
   "cell_type": "markdown",
   "metadata": {},
   "source": [
    "6. Berechnet Nullstellen bzw. Schnittpunkte mit einem Schwellenwert und überlegt euch, welche Aussagen ihr daraus ableiten könnt.\n",
    "   - Ihr könntet z.B. sagen: \"In Davos hatten wir im Winter X-mal weniger als Null Grad.\" oder \"An welchen Tagen wurde die Regenmenge XY erreicht?\"."
   ]
  },
  {
   "cell_type": "code",
   "execution_count": null,
   "metadata": {},
   "outputs": [],
   "source": [
    "print(f_linear_temp(0))\n",
    "zero = optimize.newton(f_linear_temp, 1000)\n",
    "print(zero)\n",
    "print(temp_inter_linear[1900:2000])\n",
    "\n",
    "zero1 = optimize.newton(f_linear_temp, 40)\n",
    "print(zero1)\n"
   ]
  },
  {
   "cell_type": "markdown",
   "metadata": {},
   "source": [
    "7. Mithilfe der Ableitung soll nach grossen Änderungen in den Daten gesucht werden. \n",
    "   - So könnt ihr z.B. sagen: \"Am Tag X hatten wir die grösste Änderungsrate des Luftdrucks\"."
   ]
  },
  {
   "cell_type": "code",
   "execution_count": null,
   "metadata": {},
   "outputs": [],
   "source": [
    "df = np.gradient(temp_inter_cubic)\n",
    "\n",
    "i_min = np.argmin(df) #Returns the indices of the minimum values along an axis.\n",
    "i_max = np.argmax(df) #Returns the indices of the maximum values along an axis.\n",
    "print(\"maximale Abnahme:\",(df[i_min]), \"am Tag\", (t[i_min])) #mwandeln in Tag fehlt noch!!!!!!!!!!!\n",
    "print(\"maximale Zunahme:\",(df[i_max]), \"am Tag\", (t[i_max])) #umwandeln in Tag fehlt noch!!!!!!!!!!!\n",
    "\n"
   ]
  },
  {
   "cell_type": "code",
   "execution_count": null,
   "metadata": {},
   "outputs": [],
   "source": [
    "#überprüfung der werte\n",
    "print(temp_inter_cubic[i_min-2:i_min+1])\n",
    "print(temp_inter_cubic[i_max-2:i_max+1])"
   ]
  },
  {
   "cell_type": "markdown",
   "metadata": {},
   "source": [
    "8. Benutze die Integration, um gewisse Durchschnittswerte über einen definierten Zeitraum zu berechnen.\n",
    "   - So könnt ihr z.B. die durchschnittlichen Sonnenstunden über den Sommer aufzeigen."
   ]
  },
  {
   "cell_type": "code",
   "execution_count": null,
   "metadata": {},
   "outputs": [],
   "source": [
    "print(integrate.quad(f_cubic, 0, 10))\n",
    "print(integrate.trapezoid(prestah0_inter_cubic[:21], t[:21]))"
   ]
  },
  {
   "cell_type": "code",
   "execution_count": null,
   "metadata": {},
   "outputs": [],
   "source": [
    "def mean_func(func, a, b):\n",
    "    integral, error = integrate.quad(func, a, b)\n",
    "    return integral / (b - a)"
   ]
  },
  {
   "cell_type": "code",
   "execution_count": null,
   "metadata": {},
   "outputs": [],
   "source": [
    "durschnittsdruck = mean_func(f_cubic, 0, 10)\n",
    "print(durschnittsdruck)"
   ]
  },
  {
   "cell_type": "code",
   "execution_count": null,
   "metadata": {},
   "outputs": [],
   "source": [
    "ausgewählter_zeitraum_x = t[:21]\n",
    "ausgewählter_zeitraum_y = prestah0_inter_cubic[:21]\n",
    "\n",
    "print(ausgewählter_zeitraum_x)\n",
    "ausgewählter_zeitraum_y"
   ]
  },
  {
   "cell_type": "code",
   "execution_count": null,
   "metadata": {},
   "outputs": [],
   "source": [
    "\n",
    "\n",
    "plt.plot(ausgewählter_zeitraum_x, ausgewählter_zeitraum_y)\n",
    "plt.fill_between(ausgewählter_zeitraum_x, ausgewählter_zeitraum_y, alpha=0.3)\n",
    "plt.plot([durschnittsdruck, durschnittsdruck], \"r\")\n",
    "plt.xlabel(\"Messzeitpunkt [h]\")\n",
    "plt.ylabel(\"bar\")\n",
    "plt.title(\"Interpolierte Airpressure mit Nullstellen und Mittelwert\")\n",
    "#plt.xlim(t_inter.min(), t_inter.max())\n",
    "plt.grid()\n",
    "plt.show()"
   ]
  }
 ],
 "metadata": {
  "kernelspec": {
   "display_name": "Python 3.10.7 ('venv': venv)",
   "language": "python",
   "name": "python3"
  },
  "language_info": {
   "codemirror_mode": {
    "name": "ipython",
    "version": 3
   },
   "file_extension": ".py",
   "mimetype": "text/x-python",
   "name": "python",
   "nbconvert_exporter": "python",
   "pygments_lexer": "ipython3",
   "version": "3.10.7"
  },
  "orig_nbformat": 4,
  "vscode": {
   "interpreter": {
    "hash": "eed91b8ce257bfa844ef03a0b1d03cde417208dafc0bec756473c8a593543cd2"
   }
  }
 },
 "nbformat": 4,
 "nbformat_minor": 2
}
